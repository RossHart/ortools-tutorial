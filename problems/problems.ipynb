{
 "cells": [
  {
   "cell_type": "code",
   "execution_count": null,
   "id": "b6231c68",
   "metadata": {},
   "outputs": [],
   "source": [
    "from ortools.linear_solver import pywraplp"
   ]
  },
  {
   "cell_type": "code",
   "execution_count": null,
   "id": "ba134d7e",
   "metadata": {},
   "outputs": [],
   "source": [
    "def print_result(result: int, solver: pywraplp.Solver, \n",
    "                 delta: dict, I: set, J: set) -> None:\n",
    "    \n",
    "    if result == solver.OPTIMAL:\n",
    "        print(\"Optimal solution found.\")\n",
    "    \n",
    "    obj = solver.Objective().Value()\n",
    "    print(f\"obj = {round(obj, 2)}\")\n",
    "    \n",
    "    I = list(I)\n",
    "    I.sort()\n",
    "    \n",
    "    for i in list(I):\n",
    "        for j in J:\n",
    "            delta = delta_ij[i][j]\n",
    "            \n",
    "            if delta_ij[i][j].SolutionValue() == 1:\n",
    "                print(f\"Department {i} is located in {j}\")\n",
    "            else:\n",
    "                pass\n",
    "    \n",
    "    return None"
   ]
  },
  {
   "cell_type": "markdown",
   "id": "3004b7f8",
   "metadata": {},
   "source": [
    "## Problems\n",
    "\n",
    "These problems are designed to show some typical MILP problems. The problem focuses on a typical business problem called decentralisation, and is taken from the textbook [Model Building in Mathematical Programming by H.P. Williams](https://www.wiley.com/en-gb/Model+Building+in+Mathematical+Programming%2C+5th+Edition-p-9781118443330). Chapter 12 of that textbook has many more interesing MILP problems if people want to do any further reading. \n",
    "\n",
    "The problem has been broken into two parts. The first is a relatively simple MILP about the location of various facilities. The second adds an additional layer of complexity to the problem, and highlights one of the key transforms we can do when introducing integers into the problem.\n",
    "\n",
    "When completing these exercises, remember some of the key steps to solving a mathematical program:\n",
    "\n",
    "1. Describe the **constraints** and **objectives** verbally.\n",
    "2. Describe the **entities** as sets.\n",
    "3. Describe any **parameters** as sets.\n",
    "4. Define the **decision variables** that seem sufficient to solve the problem.\n",
    "5. Write the **objective function** using the parameters and decision variables.\n",
    "6. Write the **constraints** using sets and decision variables.\n",
    "7. Iterate & repeat until happy."
   ]
  },
  {
   "cell_type": "markdown",
   "id": "9af088a6",
   "metadata": {},
   "source": [
    "### Decentralisation 1\n",
    "\n",
    "A large company wishes to move some of its departments out of London. There are benefits to be derived from doing this (cheaper housing, government incentives, easier recruitment, etc.), which have been costed.\n",
    "\n",
    "The company comprises five departments (A, B, C, D and E). The possible cities for relocation are Bristol and Brighton, or a department may be kept in London. None of these cities (including London) may be the location for more than three of the departments.\n",
    "\n",
    "Benefits to be derived from each relocation are given (in thousands of pounds per year) as follows:\n",
    "\n",
    "| City     | A  | B  | C  | D  | E  |\n",
    "|----------|----|----|----|----|----|\n",
    "| Bristol  | 10 | 15 | 10 | 20 | 5  |\n",
    "| Brighton | 10 | 20 | 15 | 15 | 15 |"
   ]
  },
  {
   "cell_type": "code",
   "execution_count": null,
   "id": "8553f67c",
   "metadata": {},
   "outputs": [],
   "source": [
    "solver = pywraplp.Solver(\"decentralisation\", pywraplp.Solver.CBC_MIXED_INTEGER_PROGRAMMING)\n",
    "inf = solver.infinity()"
   ]
  },
  {
   "cell_type": "markdown",
   "id": "3344fe87",
   "metadata": {},
   "source": [
    "### 1. Describe the rules and constraints verbally"
   ]
  },
  {
   "cell_type": "code",
   "execution_count": null,
   "id": "dc19b4b6",
   "metadata": {},
   "outputs": [],
   "source": []
  },
  {
   "cell_type": "markdown",
   "id": "a68f9101",
   "metadata": {},
   "source": [
    "### 2. Describe the entities as sets"
   ]
  },
  {
   "cell_type": "code",
   "execution_count": null,
   "id": "908a8015",
   "metadata": {},
   "outputs": [],
   "source": []
  },
  {
   "cell_type": "markdown",
   "id": "1022a0a3",
   "metadata": {},
   "source": [
    "### 3. Describe related parameters as sets\n",
    "\n",
    "These are the associated benefits. They can be easily described as a matrix of $i$ and $j$ pairs. This time, we also have two additional matrices to describe the between-department volumes of communication and the communication costs between cities. "
   ]
  },
  {
   "cell_type": "code",
   "execution_count": null,
   "id": "2eb0a892",
   "metadata": {},
   "outputs": [],
   "source": [
    "# benefits matrix\n",
    "V_ij = {\"A\": {\"bristol\": 10, \"brighton\": 10, \"london\": 0},\n",
    "        \"B\": {\"bristol\": 15, \"brighton\": 20, \"london\": 0}, \n",
    "        \"C\": {\"bristol\": 10, \"brighton\": 15, \"london\": 0}, \n",
    "        \"D\": {\"bristol\": 20, \"brighton\": 15, \"london\": 0}, \n",
    "        \"E\": {\"bristol\": 5, \"brighton\": 15, \"london\": 0}}"
   ]
  },
  {
   "cell_type": "markdown",
   "id": "31e0906a",
   "metadata": {},
   "source": [
    "### 4. Decision variables"
   ]
  },
  {
   "cell_type": "code",
   "execution_count": null,
   "id": "c3c58b54",
   "metadata": {},
   "outputs": [],
   "source": []
  },
  {
   "cell_type": "markdown",
   "id": "832f6513",
   "metadata": {},
   "source": [
    "### 5. Objective function"
   ]
  },
  {
   "cell_type": "code",
   "execution_count": null,
   "id": "f3a20b1a",
   "metadata": {},
   "outputs": [],
   "source": []
  },
  {
   "cell_type": "markdown",
   "id": "2e8bb066",
   "metadata": {},
   "source": [
    "### 6. Constraints"
   ]
  },
  {
   "cell_type": "code",
   "execution_count": null,
   "id": "42237d92",
   "metadata": {},
   "outputs": [],
   "source": []
  },
  {
   "cell_type": "code",
   "execution_count": null,
   "id": "c0f9a5f4",
   "metadata": {},
   "outputs": [],
   "source": [
    "# run solver\n",
    "result = solver.Solve()\n",
    "print_result(result=result, solver=solver, delta=delta_ij, I=I, J=J)"
   ]
  },
  {
   "cell_type": "markdown",
   "id": "cedbd152",
   "metadata": {},
   "source": [
    "### Decentralisation 2\n",
    "\n",
    "It has been suggested that there will be greater costs of communication between departments cause by relocation across multiple sites. These have also been costed for all possible locations of each department.\n",
    "\n",
    "Communication costs are of the form $C_{ik} \\cdot D_{jl}$, where $C_{ik}$ is the quantity of communication between departments $i$ and $k$ per year and $D_{jl}$ is the cost per unit of communication between cities $j$ and $l$. $C_{ik}$ and $D_{jl}$ are given by the following tables:\n",
    "\n",
    "|   | A | B   | C   | D   | E   |\n",
    "|---|---|-----|-----|-----|-----|\n",
    "| A |   | 0.0 | 1.0 | 1.5 | 0.0 |\n",
    "| B |   |     | 1.4 | 1.2 | 0.0 |\n",
    "| C |   |     |     | 0.0 | 2.0 |\n",
    "| D |   |     |     |     | 0.7 |\n",
    "\n",
    "|          | Bristol | Brighton | London |\n",
    "|----------|---------|----------|--------|\n",
    "| Bristol  |  5.0    | 14.0     | 13.0   |\n",
    "| Brighton |         |   5.0    | 9.0    |\n",
    "| London   |         |          |  10.0  |\n",
    "\n",
    "Where should each department be located so as to minimise overall yearly cost?\n",
    "\n",
    "#### Hint:\n",
    "\n",
    "If we want to have a binary decision variable, $\\gamma$ that is 1 iff $\\delta_1 = 1$ and $\\delta_2 = 1$, we can introduce the following constraints:\n",
    "\n",
    "$\\gamma - \\delta_1 \\leq 0$\n",
    "\n",
    "$\\gamma - \\delta_2 \\leq 0$\n",
    "\n",
    "$\\delta_1 + \\delta_2 - \\gamma \\leq 1$"
   ]
  },
  {
   "cell_type": "code",
   "execution_count": null,
   "id": "7b11b611",
   "metadata": {},
   "outputs": [],
   "source": [
    "solver = pywraplp.Solver(\"decentralisation-2\", pywraplp.Solver.CBC_MIXED_INTEGER_PROGRAMMING)\n",
    "inf = solver.infinity()"
   ]
  },
  {
   "cell_type": "markdown",
   "id": "f60912fd",
   "metadata": {},
   "source": [
    "### 1. Describe the rules and constraints verbally"
   ]
  },
  {
   "cell_type": "markdown",
   "id": "3f506c1f",
   "metadata": {},
   "source": [
    "### 2. Describe the entities as sets"
   ]
  },
  {
   "cell_type": "code",
   "execution_count": null,
   "id": "5c043e1d",
   "metadata": {},
   "outputs": [],
   "source": []
  },
  {
   "cell_type": "markdown",
   "id": "983e6889",
   "metadata": {},
   "source": [
    "### 3. Describe related parameters as sets\n",
    "\n",
    "These are the associated benefits. They can be easily described as a matrix of $i$ and $j$ pairs. This time, we also have two additional matrices to describe the between-department volumes of communication and the communication costs between cities. "
   ]
  },
  {
   "cell_type": "code",
   "execution_count": null,
   "id": "31d6bd9e",
   "metadata": {},
   "outputs": [],
   "source": [
    "# benefits matrix\n",
    "V_ij = {\"A\": {\"bristol\": 10, \"brighton\": 10, \"london\": 0},\n",
    "        \"B\": {\"bristol\": 15, \"brighton\": 20, \"london\": 0}, \n",
    "        \"C\": {\"bristol\": 10, \"brighton\": 15, \"london\": 0}, \n",
    "        \"D\": {\"bristol\": 20, \"brighton\": 15, \"london\": 0}, \n",
    "        \"E\": {\"bristol\": 5, \"brighton\": 15, \"london\": 0}}\n",
    "\n",
    "# communication volume matrix\n",
    "C_ik = {\"A\": {\"A\": 0.0, \"B\": 0.0, \"C\": 1.0, \"D\": 1.5, \"E\": 0.0},\n",
    "        \"B\": {\"A\": 0.0, \"B\": 0.0, \"C\": 1.4, \"D\": 1.2, \"E\": 0.0},\n",
    "        \"C\": {\"A\": 1.0, \"B\": 1.4, \"C\": 0.0, \"D\": 0.0, \"E\": 2.0},\n",
    "        \"D\": {\"A\": 1.5, \"B\": 1.2, \"C\": 0.0, \"D\": 0.0, \"E\": 0.7},\n",
    "        \"E\": {\"A\": 0.0, \"B\": 0.0, \"C\": 2.0, \"D\": 0.7, \"E\": 0.0}}\n",
    "\n",
    "# cost matrix\n",
    "D_jl = {\"bristol\": {\"bristol\": 5.0, \"brighton\": 14.0, \"london\": 13.0},\n",
    "        \"brighton\": {\"bristol\": 14.0, \"brighton\": 5.0, \"london\": 9.0},\n",
    "        \"london\": {\"bristol\": 13.0, \"brighton\": 9.0, \"london\": 10.0}}"
   ]
  },
  {
   "cell_type": "markdown",
   "id": "dfc6d211",
   "metadata": {},
   "source": [
    "### 4. Decision variables"
   ]
  },
  {
   "cell_type": "code",
   "execution_count": null,
   "id": "d95b8c0c",
   "metadata": {},
   "outputs": [],
   "source": []
  },
  {
   "cell_type": "markdown",
   "id": "c49512cb",
   "metadata": {},
   "source": [
    "### 5. Objective function"
   ]
  },
  {
   "cell_type": "markdown",
   "id": "a3360e21",
   "metadata": {},
   "source": [
    "### 6. Constraints"
   ]
  },
  {
   "cell_type": "code",
   "execution_count": null,
   "id": "cb39a578",
   "metadata": {},
   "outputs": [],
   "source": []
  },
  {
   "cell_type": "code",
   "execution_count": null,
   "id": "77517681",
   "metadata": {},
   "outputs": [],
   "source": [
    "# run solver\n",
    "result = solver.Solve()\n",
    "print_result(result=result, solver=solver, delta=delta_ij, I=I, J=J)"
   ]
  },
  {
   "cell_type": "code",
   "execution_count": null,
   "id": "c66badec",
   "metadata": {},
   "outputs": [],
   "source": []
  }
 ],
 "metadata": {
  "kernelspec": {
   "display_name": "Python 3",
   "language": "python",
   "name": "python3"
  },
  "language_info": {
   "codemirror_mode": {
    "name": "ipython",
    "version": 3
   },
   "file_extension": ".py",
   "mimetype": "text/x-python",
   "name": "python",
   "nbconvert_exporter": "python",
   "pygments_lexer": "ipython3",
   "version": "3.8.8"
  }
 },
 "nbformat": 4,
 "nbformat_minor": 5
}
